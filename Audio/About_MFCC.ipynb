{
 "cells": [
  {
   "cell_type": "markdown",
   "metadata": {},
   "source": [
    "MFCC란?\n",
    "--------------\n",
    "***\n",
    "\n",
    "인간이 소리를 들을때, 귀 안에 있는 내이의 기저막은 소리의 주파수에 따라 진동하는 부분이 다르며, 이를 통해 소리를 분리해낸다. 이러한 방식을 모사하기 위해 오디오에 Mel filter bank라는 필터를 적용해 소리를 주파수 대역별로 걸러낸다.    \n",
    "간단히 말해, MFCC는 고차원적인 특성이 많은 오디오 데이터에서 인간이 소리를 인식하는 과정을 모방하여 특징 벡터를 추출하는 과정이다. "
   ]
  },
  {
   "cell_type": "markdown",
   "metadata": {},
   "source": [
    "MFCC를 얻는 과정\n",
    "--------------------------------------\n",
    "***\n",
    "\n",
    "#### MFCC 변환은 수행하는 과정은 다음과 같다.   \n",
    "오디오 데이터 -> windowing -> 푸리에 변환 -> mel filter bank 통과 -> DCT -> MFCC\n",
    "*****\n",
    "\n",
    "각각의 과정을 간략하게 설명하자면 windowing은 한 오디오 신호를 매우 짧은 시간의 frame으로 자르는 것이다. 이 작업을 하는 이유는 시간 차원의 오디오 데이터를 **푸리에 변환**을 통해 주파수 차원으로 바꾸고, 각 프레임을 옆으로 쌓아 다시 시간 차원을 살리기 위함이다. 이 작업을 거치면 spectrogram이 얻어진다. \n",
    "\n",
    "위에서 얻은 sepctrogram에 **mel filter bank**를 통과시켜 mel-spectrogram을 얻은 후, 로그를 취하고 **DCT 변환**을 거치면 MFCC가 얻어지는 것이다.\n",
    "***"
   ]
  },
  {
   "cell_type": "markdown",
   "metadata": {},
   "source": [
    "푸리에 변환, mel filter bank, DCT 변환\n",
    "----------------------------------------------------\n",
    "***\n",
    "\n",
    "### 1. 푸리에 변환\n",
    "오디오 데이터는 한 신호에 여러 주파수들이 결합되어 있다. 푸리에 변환은 하나의 오디오 신호를 서로 다른 주파수들의 합으로 표현함으로써 오디오 데이터의 시간 차원을 주파수 차원으로 변환한다.\n",
    "\n",
    "### 2. mel filter bank\n",
    "인간은 낮은 주파수의 소리에는 민감하게 반응하지만, 높은 주파수의 소리에는 그렇지 못한다. 따라서 인간의 소리 인지 과정을 모방하기 위해 낮은 주파수 음역대에서는 선형적으로, 높은 주파수 음역대에서는 log-scale로 변환하기 위한 필터가 mel filter bank인 것이다. 앞서 설명한 spectrogram에 mel filter bank를 통과시키면 mel-spectrogram이 얻어진다.\n",
    "\n",
    "### 3. DCT 변환\n",
    "MFCC를 얻는 마지막 과정으로, mel-spectrogram에 log를 취하고 DCT 변환을 한다. DCT 변환은 어떤 함수를 cosine 함수의 합으로 표현하는 변환이다. 어떤 신호에 DCT 변환 과정을 거치면 신호 성분이 낮은 주파수에 집중되는 데이터 압축 효과를 얻을 수 있다.\n",
    "\n",
    "***"
   ]
  },
  {
   "cell_type": "markdown",
   "metadata": {},
   "source": [
    "MFCC의 장점\n",
    "------------------\n",
    "***\n",
    "\n",
    "1. 오디오 신호의 가장 유용한 부분(낮은 주파수 음역대)에 초점을 맞춤.\n",
    "2. 데이터를 압축하였기 때문에 연산이 효율적임.\n",
    "***"
   ]
  }
 ],
 "metadata": {
  "kernelspec": {
   "display_name": "Python 3",
   "language": "python",
   "name": "python3"
  },
  "language_info": {
   "codemirror_mode": {
    "name": "ipython",
    "version": 3
   },
   "file_extension": ".py",
   "mimetype": "text/x-python",
   "name": "python",
   "nbconvert_exporter": "python",
   "pygments_lexer": "ipython3",
   "version": "3.7.6"
  }
 },
 "nbformat": 4,
 "nbformat_minor": 5
}
