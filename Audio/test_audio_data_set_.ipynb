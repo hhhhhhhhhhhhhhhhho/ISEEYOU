{
  "nbformat": 4,
  "nbformat_minor": 0,
  "metadata": {
    "colab": {
      "name": "test_audio data set .ipynb",
      "provenance": [],
      "authorship_tag": "ABX9TyOBYocsWbL0jaL3XM01hgoo",
      "include_colab_link": true
    },
    "kernelspec": {
      "name": "python3",
      "display_name": "Python 3"
    }
  },
  "cells": [
    {
      "cell_type": "markdown",
      "metadata": {
        "id": "view-in-github",
        "colab_type": "text"
      },
      "source": [
        "<a href=\"https://colab.research.google.com/github/hhhhhhhhhhhhhhhhho/ISEEYOU/blob/main/Audio/test_audio_data_set_.ipynb\" target=\"_parent\"><img src=\"https://colab.research.google.com/assets/colab-badge.svg\" alt=\"Open In Colab\"/></a>"
      ]
    },
    {
      "cell_type": "code",
      "metadata": {
        "colab": {
          "base_uri": "https://localhost:8080/"
        },
        "id": "LyVVlwk_4PmI",
        "outputId": "a1cc4d7c-c849-49f8-965a-52d3b4292de4"
      },
      "source": [
        "!git clone https://github.com/tensorflow/models.git"
      ],
      "execution_count": 2,
      "outputs": [
        {
          "output_type": "stream",
          "text": [
            "Cloning into 'models'...\n",
            "remote: Enumerating objects: 52996, done.\u001b[K\n",
            "remote: Total 52996 (delta 0), reused 0 (delta 0), pack-reused 52996\u001b[K\n",
            "Receiving objects: 100% (52996/52996), 569.34 MiB | 24.59 MiB/s, done.\n",
            "Resolving deltas: 100% (36307/36307), done.\n"
          ],
          "name": "stdout"
        }
      ]
    },
    {
      "cell_type": "code",
      "metadata": {
        "id": "IjPDT6eY4ddf"
      },
      "source": [
        "!python -m pip install --upgrade pip whell\n",
        "!pip install numpy resampy tensorflow soundfile\n",
        "\n",
        "!cd models/research/audioset/yamnet"
      ],
      "execution_count": null,
      "outputs": []
    },
    {
      "cell_type": "code",
      "metadata": {
        "colab": {
          "base_uri": "https://localhost:8080/"
        },
        "id": "Bk_zS7LE5DOq",
        "outputId": "c7084b9e-b5f5-42c6-8522-6d7eaa7138b7"
      },
      "source": [
        "!curl -O https://storage.googleapis.com/audioset/yamnet.h5"
      ],
      "execution_count": 6,
      "outputs": [
        {
          "output_type": "stream",
          "text": [
            "  % Total    % Received % Xferd  Average Speed   Time    Time     Time  Current\n",
            "                                 Dload  Upload   Total   Spent    Left  Speed\n",
            "100 14.5M  100 14.5M    0     0  28.7M      0 --:--:-- --:--:-- --:--:-- 28.7M\n"
          ],
          "name": "stdout"
        }
      ]
    },
    {
      "cell_type": "code",
      "metadata": {
        "colab": {
          "base_uri": "https://localhost:8080/"
        },
        "id": "cS9KvtFL5JJF",
        "outputId": "14d147ef-e1d7-4f9b-d400-e1685e8f448f"
      },
      "source": [
        "!python /content/models/research/audioset/yamnet/yamnet_test.py"
      ],
      "execution_count": 9,
      "outputs": [
        {
          "output_type": "stream",
          "text": [
            "2021-03-07 04:24:09.447355: I tensorflow/stream_executor/platform/default/dso_loader.cc:49] Successfully opened dynamic library libcudart.so.11.0\n",
            "Running tests under Python 3.7.10: /usr/bin/python3\n",
            "2021-03-07 04:24:11.394148: I tensorflow/compiler/jit/xla_cpu_device.cc:41] Not creating XLA devices, tf_xla_enable_xla_devices not set\n",
            "2021-03-07 04:24:11.395103: I tensorflow/stream_executor/platform/default/dso_loader.cc:49] Successfully opened dynamic library libcuda.so.1\n",
            "2021-03-07 04:24:11.404681: E tensorflow/stream_executor/cuda/cuda_driver.cc:328] failed call to cuInit: CUDA_ERROR_NO_DEVICE: no CUDA-capable device is detected\n",
            "2021-03-07 04:24:11.404742: I tensorflow/stream_executor/cuda/cuda_diagnostics.cc:156] kernel driver does not appear to be running on this host (a90711fe1650): /proc/driver/nvidia/version does not exist\n",
            "2021-03-07 04:24:11.405288: I tensorflow/compiler/jit/xla_gpu_device.cc:99] Not creating XLA devices, tf_xla_enable_xla_devices not set\n",
            "[ RUN      ] YAMNetTest.testRandom\n",
            "INFO:tensorflow:time(__main__.YAMNetTest.testRandom): 0.21s\n",
            "I0307 04:24:12.527147 140165104625536 test_util.py:2076] time(__main__.YAMNetTest.testRandom): 0.21s\n",
            "[       OK ] YAMNetTest.testRandom\n",
            "[ RUN      ] YAMNetTest.testSine\n",
            "INFO:tensorflow:time(__main__.YAMNetTest.testSine): 0.12s\n",
            "I0307 04:24:12.652801 140165104625536 test_util.py:2076] time(__main__.YAMNetTest.testSine): 0.12s\n",
            "[       OK ] YAMNetTest.testSine\n",
            "[ RUN      ] YAMNetTest.testZeros\n",
            "INFO:tensorflow:time(__main__.YAMNetTest.testZeros): 0.11s\n",
            "I0307 04:24:12.762051 140165104625536 test_util.py:2076] time(__main__.YAMNetTest.testZeros): 0.11s\n",
            "[       OK ] YAMNetTest.testZeros\n",
            "[ RUN      ] YAMNetTest.test_session\n",
            "[  SKIPPED ] YAMNetTest.test_session\n",
            "----------------------------------------------------------------------\n",
            "Ran 4 tests in 1.375s\n",
            "\n",
            "OK (skipped=1)\n"
          ],
          "name": "stdout"
        }
      ]
    },
    {
      "cell_type": "markdown",
      "metadata": {
        "id": "sihrKZKZDeEt"
      },
      "source": [
        "### Yelling man test audio file 은 ISEEYOU 의 test audio 파일안에 있음. \n"
      ]
    },
    {
      "cell_type": "code",
      "metadata": {
        "id": "hmtZTY9o9FX8"
      },
      "source": [
        "!git clone https://github.com/hhhhhhhhhhhhhhhhho/ISEEYOU.git"
      ],
      "execution_count": null,
      "outputs": []
    },
    {
      "cell_type": "markdown",
      "metadata": {
        "id": "Jx1ZOwSBDLsL"
      },
      "source": [
        "### Yamnet 사용\n",
        "구글에서 제공한다는 youtube 관련 audio big data 를 사용하여 여러개 label 을 만들고 해당 모델을 훈련 한 가중치를 yamnet.h5 파일에 저장하여 사용하였음 .꽤 재미있고 확실한 classification 이 되었다. 하지만 우리가 하려는 것 ( noise 와 voice 의 분리에는 차이가 있다. ) "
      ]
    },
    {
      "cell_type": "code",
      "metadata": {
        "colab": {
          "base_uri": "https://localhost:8080/"
        },
        "id": "EdFr58jz6hwh",
        "outputId": "f6985fea-0f7a-4cd0-ea3a-af8f62826580"
      },
      "source": [
        "!python /content/models/research/audioset/yamnet/inference.py yelling_man.wav"
      ],
      "execution_count": 15,
      "outputs": [
        {
          "output_type": "stream",
          "text": [
            "2021-03-07 04:32:31.609014: I tensorflow/stream_executor/platform/default/dso_loader.cc:49] Successfully opened dynamic library libcudart.so.11.0\n",
            "2021-03-07 04:32:33.477412: I tensorflow/compiler/jit/xla_cpu_device.cc:41] Not creating XLA devices, tf_xla_enable_xla_devices not set\n",
            "2021-03-07 04:32:33.480746: I tensorflow/stream_executor/platform/default/dso_loader.cc:49] Successfully opened dynamic library libcuda.so.1\n",
            "2021-03-07 04:32:33.491158: E tensorflow/stream_executor/cuda/cuda_driver.cc:328] failed call to cuInit: CUDA_ERROR_NO_DEVICE: no CUDA-capable device is detected\n",
            "2021-03-07 04:32:33.491224: I tensorflow/stream_executor/cuda/cuda_diagnostics.cc:156] kernel driver does not appear to be running on this host (a90711fe1650): /proc/driver/nvidia/version does not exist\n",
            "2021-03-07 04:32:33.491814: I tensorflow/compiler/jit/xla_gpu_device.cc:99] Not creating XLA devices, tf_xla_enable_xla_devices not set\n",
            "yelling_man.wav :\n",
            "  Groan       : 0.758\n",
            "  Sigh        : 0.095\n",
            "  Speech      : 0.087\n",
            "  Screaming   : 0.058\n",
            "  Sound effect: 0.034\n"
          ],
          "name": "stdout"
        }
      ]
    }
  ]
}