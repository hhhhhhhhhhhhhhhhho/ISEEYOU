{
 "cells": [
  {
   "cell_type": "code",
   "execution_count": 1,
   "metadata": {},
   "outputs": [
    {
     "ename": "ModuleNotFoundError",
     "evalue": "No module named 'librosa'",
     "output_type": "error",
     "traceback": [
      "\u001b[1;31m---------------------------------------------------------------------------\u001b[0m",
      "\u001b[1;31mModuleNotFoundError\u001b[0m                       Traceback (most recent call last)",
      "\u001b[1;32m<ipython-input-1-989066361697>\u001b[0m in \u001b[0;36m<module>\u001b[1;34m\u001b[0m\n\u001b[1;32m----> 1\u001b[1;33m \u001b[1;32mimport\u001b[0m \u001b[0mlibrosa\u001b[0m\u001b[1;33m\u001b[0m\u001b[1;33m\u001b[0m\u001b[0m\n\u001b[0m",
      "\u001b[1;31mModuleNotFoundError\u001b[0m: No module named 'librosa'"
     ]
    }
   ],
   "source": [
    "import librosa"
   ]
  },
  {
   "cell_type": "code",
   "execution_count": 4,
   "metadata": {},
   "outputs": [
    {
     "name": "stdout",
     "output_type": "stream",
     "text": [
      "Package       Version\n",
      "------------- -------------------\n",
      "appdirs       1.4.4\n",
      "audioread     2.1.9\n",
      "certifi       2020.12.5\n",
      "cffi          1.14.5\n",
      "chardet       4.0.0\n",
      "decorator     4.4.2\n",
      "idna          2.10\n",
      "joblib        1.0.1\n",
      "librosa       0.8.0\n",
      "llvmlite      0.36.0\n",
      "numba         0.53.0\n",
      "numpy         1.20.1\n",
      "packaging     20.9\n",
      "pip           21.0.1\n",
      "pooch         1.3.0\n",
      "pycparser     2.20\n",
      "pyparsing     2.4.7\n",
      "requests      2.25.1\n",
      "resampy       0.2.2\n",
      "scikit-learn  0.24.1\n",
      "scipy         1.6.1\n",
      "setuptools    52.0.0.post20210125\n",
      "six           1.15.0\n",
      "SoundFile     0.10.3.post1\n",
      "threadpoolctl 2.1.0\n",
      "urllib3       1.26.4\n",
      "wheel         0.36.2\n",
      "wincertstore  0.2\n"
     ]
    }
   ],
   "source": [
    "!pip list"
   ]
  },
  {
   "cell_type": "code",
   "execution_count": null,
   "metadata": {},
   "outputs": [],
   "source": [
    "!pip uninstall librosa"
   ]
  }
 ],
 "metadata": {
  "kernelspec": {
   "display_name": "Python 3",
   "language": "python",
   "name": "python3"
  }
 },
 "nbformat": 4,
 "nbformat_minor": 4
}
