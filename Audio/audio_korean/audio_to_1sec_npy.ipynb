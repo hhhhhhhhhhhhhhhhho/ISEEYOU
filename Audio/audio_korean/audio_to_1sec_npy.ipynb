{
 "cells": [
  {
   "cell_type": "code",
   "execution_count": 18,
   "metadata": {},
   "outputs": [],
   "source": [
    "import matplotlib.pyplot as plt\n",
    "import IPython.display as ipd\n",
    "import librosa\n",
    "import librosa.display\n",
    "import numpy as np"
   ]
  },
  {
   "cell_type": "code",
   "execution_count": 19,
   "metadata": {},
   "outputs": [],
   "source": [
    "### .pcm 파일을 .wav 파일로 바꾸는 함수\n",
    "import wave\n",
    "\n",
    "# The parameters are prerequisite information. More specifically,\n",
    "# channels, bit_depth, sampling_rate must be known to use this function.\n",
    "def pcm2wav( pcm_file, wav_file, channels=1, bit_depth=16, sampling_rate=16000 ):\n",
    "\n",
    "    # Check if the options are valid.\n",
    "    if bit_depth % 8 != 0:\n",
    "        raise ValueError(\"bit_depth \"+str(bit_depth)+\" must be a multiple of 8.\")\n",
    "        \n",
    "    # Read the .pcm file as a binary file and store the data to pcm_data\n",
    "    with open( pcm_file, 'rb') as opened_pcm_file:\n",
    "        pcm_data = opened_pcm_file.read();\n",
    "        \n",
    "        obj2write = wave.open( wav_file, 'wb')\n",
    "        obj2write.setnchannels( channels )\n",
    "        obj2write.setsampwidth( bit_depth // 8 )\n",
    "        obj2write.setframerate( sampling_rate )\n",
    "        obj2write.writeframes( pcm_data )\n",
    "        obj2write.close()"
   ]
  },
  {
   "cell_type": "code",
   "execution_count": 49,
   "metadata": {},
   "outputs": [],
   "source": [
    "def one_sec_cutter(path):\n",
    "    raw_npy = np.empty((0, 16000), np.float32)\n",
    "    mfcc_npy = np.empty((0, 20, 32), np.float32) \n",
    "    \n",
    "    x, Fs = librosa.load(path, sr=16000)\n",
    "    \n",
    "    num_1sec = len(x) // Fs\n",
    "    for j in range(num_1sec):\n",
    "        start = Fs * j\n",
    "        end = Fs * (j + 1)\n",
    "\n",
    "        cutter_1sec = x[start:end]\n",
    "        mfcc = librosa.feature.mfcc(y=cutter_1sec)\n",
    "\n",
    "        cutter_1sec = cutter_1sec.reshape((1,) + cutter_1sec.shape)\n",
    "        mfcc = mfcc.reshape((1,) + mfcc.shape)\n",
    "\n",
    "        raw_npy = np.concatenate((raw_npy, cutter_1sec), axis=0)\n",
    "        mfcc_npy = np.concatenate((mfcc_npy, mfcc), axis=0)\n",
    "    \n",
    "    return raw_npy, mfcc_npy"
   ]
  },
  {
   "cell_type": "code",
   "execution_count": 4,
   "metadata": {},
   "outputs": [],
   "source": [
    "### 새로 받은 한국어 음성 데이터 1번부터 1000번까지 wav 파일로 변환\n",
    "for i in range(1, 1001):\n",
    "    pcm_path = './audio_data/KsponSpeech/KsponSpeech_0001/KsponSpeech_' + '{0:06d}'.format(i) + '.pcm'\n",
    "    wav_path = './audio_data/Kspon_wav/KsponSpeech_wav_0001/Kspon_wav_' + '{0:06d}'.format(i) + '.wav'\n",
    "    pcm2wav( pcm_path, wav_path, 1, 16, 16000 )"
   ]
  },
  {
   "cell_type": "code",
   "execution_count": 50,
   "metadata": {
    "scrolled": true
   },
   "outputs": [],
   "source": [
    "kspon_wav_npy = np.empty((0, 16000), np.float32)\n",
    "kspon_mfcc_npy = np.empty((0, 20, 32), np.float32)\n",
    "\n",
    "for i in range(1, 1001):\n",
    "    wav_path = './audio_data/Kspon_wav/KsponSpeech_wav_0001/Kspon_wav_' + '{0:06d}'.format(i) + '.wav'\n",
    "    \n",
    "    raw_npy, mfcc_npy = one_sec_cutter(wav_path)\n",
    "    kspon_wav_npy = np.concatenate((kspon_wav_npy, raw_npy), axis=0)\n",
    "    kspon_mfcc_npy = np.concatenate((kspon_mfcc_npy, mfcc_npy), axis=0)"
   ]
  },
  {
   "cell_type": "code",
   "execution_count": 51,
   "metadata": {},
   "outputs": [
    {
     "name": "stdout",
     "output_type": "stream",
     "text": [
      "shape of kspon_wav_npy: (4993, 16000)\n",
      "shape of kspon_mfcc_npy: (4993, 20, 32)\n"
     ]
    }
   ],
   "source": [
    "print('shape of kspon_wav_npy:', kspon_wav_npy.shape)\n",
    "print('shape of kspon_mfcc_npy:', kspon_mfcc_npy.shape)"
   ]
  },
  {
   "cell_type": "code",
   "execution_count": 69,
   "metadata": {},
   "outputs": [],
   "source": [
    "np.save('./audio_data/npy_data/Kspon_wav_npy.npy', kspon_wav_npy)\n",
    "np.save('./audio_data/npy_data/kspon_mfcc_npy.npy', kspon_mfcc_npy)"
   ]
  },
  {
   "cell_type": "code",
   "execution_count": 66,
   "metadata": {},
   "outputs": [],
   "source": [
    "noise_path = 'audio_data/noise_mp3/noise_window.mp3'\n",
    "\n",
    "noise_mp3_npy, noise_mfcc_npy= one_sec_cutter(noise_path)"
   ]
  },
  {
   "cell_type": "code",
   "execution_count": 67,
   "metadata": {},
   "outputs": [
    {
     "name": "stdout",
     "output_type": "stream",
     "text": [
      "shape of noise_mp3_npy: (1201, 16000)\n",
      "shape of noise_mfcc_npy: (1201, 20, 32)\n"
     ]
    }
   ],
   "source": [
    "print('shape of noise_mp3_npy:', noise_mp3_npy.shape)\n",
    "print('shape of noise_mfcc_npy:', noise_mfcc_npy.shape)"
   ]
  },
  {
   "cell_type": "code",
   "execution_count": 70,
   "metadata": {},
   "outputs": [],
   "source": [
    "np.save('./audio_data/npy_data/noise_window_mp3_npy.npy', kspon_wav_npy)\n",
    "np.save('./audio_data/npy_data/noise_window_mfcc_npy.npy', kspon_mfcc_npy)"
   ]
  }
 ],
 "metadata": {
  "kernelspec": {
   "display_name": "Python 3",
   "language": "python",
   "name": "python3"
  },
  "language_info": {
   "codemirror_mode": {
    "name": "ipython",
    "version": 3
   },
   "file_extension": ".py",
   "mimetype": "text/x-python",
   "name": "python",
   "nbconvert_exporter": "python",
   "pygments_lexer": "ipython3",
   "version": "3.7.6"
  }
 },
 "nbformat": 4,
 "nbformat_minor": 4
}
