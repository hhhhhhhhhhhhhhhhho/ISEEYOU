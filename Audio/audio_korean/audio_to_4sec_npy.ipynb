{
 "cells": [
  {
   "cell_type": "code",
   "execution_count": 2,
   "metadata": {},
   "outputs": [],
   "source": [
    "import matplotlib.pyplot as plt\n",
    "import IPython.display as ipd\n",
    "import librosa\n",
    "import librosa.display\n",
    "import numpy as np"
   ]
  },
  {
   "cell_type": "code",
   "execution_count": 3,
   "metadata": {},
   "outputs": [],
   "source": [
    "### .pcm 파일을 .wav 파일로 바꾸는 함수\n",
    "import wave\n",
    "\n",
    "# The parameters are prerequisite information. More specifically,\n",
    "# channels, bit_depth, sampling_rate must be known to use this function.\n",
    "def pcm2wav( pcm_file, wav_file, channels=1, bit_depth=16, sampling_rate=16000 ):\n",
    "\n",
    "    # Check if the options are valid.\n",
    "    if bit_depth % 8 != 0:\n",
    "        raise ValueError(\"bit_depth \"+str(bit_depth)+\" must be a multiple of 8.\")\n",
    "        \n",
    "    # Read the .pcm file as a binary file and store the data to pcm_data\n",
    "    with open( pcm_file, 'rb') as opened_pcm_file:\n",
    "        pcm_data = opened_pcm_file.read();\n",
    "        \n",
    "        obj2write = wave.open( wav_file, 'wb')\n",
    "        obj2write.setnchannels( channels )\n",
    "        obj2write.setsampwidth( bit_depth // 8 )\n",
    "        obj2write.setframerate( sampling_rate )\n",
    "        obj2write.writeframes( pcm_data )\n",
    "        obj2write.close()"
   ]
  },
  {
   "cell_type": "code",
   "execution_count": 39,
   "metadata": {},
   "outputs": [],
   "source": [
    "def four_sec_cutter(path):\n",
    "    sr = 16000\n",
    "    duration = sr * 4\n",
    "    \n",
    "    raw_npy = np.empty((0, duration), np.float32)\n",
    "    mfcc_npy = np.empty((0, 20, 126), np.float32) \n",
    "    \n",
    "    x = librosa.load(path, sr=sr)[0]\n",
    "    \n",
    "    num_4sec = len(x) // (duration)\n",
    "    \n",
    "    for j in range(num_4sec):\n",
    "        start = (duration) * j\n",
    "        end = (duration) * (j + 1)\n",
    "\n",
    "        cutter_4sec = x[start:end]\n",
    "        mfcc = librosa.feature.mfcc(y=cutter_4sec, sr=sr, n_mfcc=20)\n",
    "\n",
    "        cutter_4sec = cutter_4sec.reshape((1,) + cutter_4sec.shape)\n",
    "        mfcc = mfcc.reshape((1,) + mfcc.shape)\n",
    "\n",
    "        raw_npy = np.concatenate((raw_npy, cutter_4sec), axis=0)\n",
    "        mfcc_npy = np.concatenate((mfcc_npy, mfcc), axis=0)\n",
    "    \n",
    "    return raw_npy, mfcc_npy"
   ]
  },
  {
   "cell_type": "code",
   "execution_count": 7,
   "metadata": {},
   "outputs": [],
   "source": [
    "### 새로 받은 한국어 음성 데이터 1번부터 1000번까지 wav 파일로 변환\n",
    "for i in range(1, 751):\n",
    "    pcm_path = './audio_data/KsponSpeech/KsponSpeech_0002/KsponSpeech_001' + '{0:03d}'.format(i) + '.pcm'\n",
    "    wav_path = './audio_data/Kspon_wav/Kspon_wav_02/Kspon_wav_001' + '{0:03d}'.format(i) + '.wav'\n",
    "    pcm2wav( pcm_path, wav_path, 1, 16, 16000 )"
   ]
  },
  {
   "cell_type": "code",
   "execution_count": 53,
   "metadata": {
    "scrolled": true
   },
   "outputs": [],
   "source": [
    "kspon_wav_npy = np.empty((0, 64000), np.float32)\n",
    "kspon_mfcc_npy = np.empty((0, 20, 126), np.float32)\n",
    "\n",
    "for i in range(1, 1001):\n",
    "    wav_path = 'audio_data/Kspon_wav/Kspon_wav_01/Kspon_wav_' + '{0:06d}'.format(i) + '.wav'\n",
    "    \n",
    "    raw_npy, mfcc_npy = four_sec_cutter(wav_path)\n",
    "    kspon_wav_npy = np.concatenate((kspon_wav_npy, raw_npy), axis=0)\n",
    "    kspon_mfcc_npy = np.concatenate((kspon_mfcc_npy, mfcc_npy), axis=0)"
   ]
  },
  {
   "cell_type": "code",
   "execution_count": 56,
   "metadata": {},
   "outputs": [],
   "source": [
    "for i in range(1, 751):\n",
    "    wav_path = 'audio_data/Kspon_wav/Kspon_wav_02/Kspon_wav_001' + '{0:03d}'.format(i) + '.wav'\n",
    "    \n",
    "    raw_npy, mfcc_npy = four_sec_cutter(wav_path)\n",
    "    kspon_wav_npy = np.concatenate((kspon_wav_npy, raw_npy), axis=0)\n",
    "    kspon_mfcc_npy = np.concatenate((kspon_mfcc_npy, mfcc_npy), axis=0)"
   ]
  },
  {
   "cell_type": "code",
   "execution_count": 57,
   "metadata": {},
   "outputs": [
    {
     "name": "stdout",
     "output_type": "stream",
     "text": [
      "shape of kspon_wav_npy: (1525, 64000)\n",
      "shape of kspon_mfcc_npy: (1525, 20, 126)\n"
     ]
    }
   ],
   "source": [
    "print('shape of kspon_wav_npy:', kspon_wav_npy.shape)\n",
    "print('shape of kspon_mfcc_npy:', kspon_mfcc_npy.shape)"
   ]
  },
  {
   "cell_type": "code",
   "execution_count": 58,
   "metadata": {},
   "outputs": [],
   "source": [
    "np.save('./audio_data/npy_data/foursec/Kspon_wav_npy.npy', kspon_wav_npy)\n",
    "np.save('./audio_data/npy_data/foursec/kspon_mfcc_npy.npy', kspon_mfcc_npy)"
   ]
  },
  {
   "cell_type": "code",
   "execution_count": 60,
   "metadata": {},
   "outputs": [],
   "source": [
    "noise_cafe1_path = 'audio_data/noise/noise_cafe1.wav'\n",
    "noise_cafe2_path = 'audio_data/noise/noise_cafe2.wav'\n",
    "noise_room_path = 'audio_data/noise/noise_room_wav.wav'\n",
    "noise_window_path = 'audio_data/noise/noise_window_wav.wav'\n",
    "\n",
    "noise_cafe1_npy, noise_cafe1_mfcc_npy = four_sec_cutter(noise_cafe1_path)\n",
    "noise_cafe2_npy, noise_cafe2_mfcc_npy = four_sec_cutter(noise_cafe2_path)\n",
    "noise_room_npy, noise_room_mfcc_npy = four_sec_cutter(noise_room_path)\n",
    "noise_window_npy, noise_window_mfcc_npy= four_sec_cutter(noise_window_path)"
   ]
  },
  {
   "cell_type": "code",
   "execution_count": 64,
   "metadata": {
    "scrolled": false
   },
   "outputs": [
    {
     "name": "stdout",
     "output_type": "stream",
     "text": [
      "shape of noise_window_mfcc_npy: (375, 20, 126)\n",
      "shape of noise_cafe1_mfcc_npy: (300, 20, 126)\n",
      "shape of noise_cafe2_mfcc_npy: (186, 20, 126)\n",
      "shape of noise_room_mfcc_npy: (377, 20, 126)\n"
     ]
    }
   ],
   "source": [
    "print('shape of noise_window_mfcc_npy:', noise_window_mfcc_npy.shape)\n",
    "print('shape of noise_cafe1_mfcc_npy:', noise_cafe1_mfcc_npy.shape)\n",
    "print('shape of noise_cafe2_mfcc_npy:', noise_cafe2_mfcc_npy.shape)\n",
    "print('shape of noise_room_mfcc_npy:', noise_room_mfcc_npy.shape)"
   ]
  },
  {
   "cell_type": "code",
   "execution_count": 63,
   "metadata": {},
   "outputs": [
    {
     "data": {
      "text/plain": [
       "(400, 20, 126)"
      ]
     },
     "execution_count": 63,
     "metadata": {},
     "output_type": "execute_result"
    }
   ],
   "source": [
    "noise_cafe_mfcc_npy = np.concatenate((noise_cafe1_mfcc_npy, \n",
    "                                      noise_cafe2_mfcc_npy[:100]), \n",
    "                                     axis=0)\n",
    "noise_cafe_mfcc_npy.shape"
   ]
  },
  {
   "cell_type": "code",
   "execution_count": 65,
   "metadata": {},
   "outputs": [
    {
     "data": {
      "text/plain": [
       "(1152, 20, 126)"
      ]
     },
     "execution_count": 65,
     "metadata": {},
     "output_type": "execute_result"
    }
   ],
   "source": [
    "noise_mfcc_npy = np.concatenate((noise_window_mfcc_npy, noise_cafe_mfcc_npy, noise_room_mfcc_npy),\n",
    "                               axis=0)\n",
    "noise_mfcc_npy.shape"
   ]
  },
  {
   "cell_type": "code",
   "execution_count": null,
   "metadata": {},
   "outputs": [],
   "source": [
    "np.save('audio_data/npy_data/foursec/noise_mfcc_npy.npy', noise_mfcc_npy)"
   ]
  },
  {
   "cell_type": "code",
   "execution_count": 18,
   "metadata": {},
   "outputs": [],
   "source": [
    "noise_room_path = 'audio_data/noise/noise_room_wav.wav'\n",
    "\n",
    "noise_room_npy, noise_room_mfcc_npy = one_sec_cutter(noise_room_path)"
   ]
  },
  {
   "cell_type": "code",
   "execution_count": 23,
   "metadata": {
    "scrolled": true
   },
   "outputs": [
    {
     "name": "stdout",
     "output_type": "stream",
     "text": [
      "shape of noise_room_mfcc_npy: (1511, 32, 32)\n"
     ]
    }
   ],
   "source": [
    "print('shape of noise_room_mfcc_npy:', noise_room_mfcc_npy.shape)"
   ]
  },
  {
   "cell_type": "code",
   "execution_count": 24,
   "metadata": {},
   "outputs": [
    {
     "data": {
      "text/plain": [
       "(1500, 32, 32)"
      ]
     },
     "execution_count": 24,
     "metadata": {},
     "output_type": "execute_result"
    }
   ],
   "source": [
    "noise_room_mfcc_npy = noise_room_mfcc_npy[:1500]\n",
    "noise_room_mfcc_npy.shape"
   ]
  },
  {
   "cell_type": "code",
   "execution_count": 26,
   "metadata": {},
   "outputs": [],
   "source": [
    "np.save('audio_data/npy_data/noise_room_mfcc_npy.npy', noise_room_mfcc_npy)"
   ]
  },
  {
   "cell_type": "code",
   "execution_count": 50,
   "metadata": {},
   "outputs": [
    {
     "data": {
      "text/plain": [
       "<matplotlib.collections.QuadMesh at 0x287502780c8>"
      ]
     },
     "execution_count": 50,
     "metadata": {},
     "output_type": "execute_result"
    },
    {
     "data": {
      "image/png": "[encoded data removed]",
      "text/plain": [
       "<Figure size 432x288 with 1 Axes>"
      ]
     },
     "metadata": {},
     "output_type": "display_data"
    }
   ],
   "source": [
    "path = 'audio_data/Kspon_wav/KsponSpeech_wav_0001/Kspon_wav_000001.wav'\n",
    "\n",
    "x = librosa.load(path, 16000)[0]\n",
    "mfcc1 = librosa.feature.mfcc(x)\n",
    "librosa.display.specshow(mfcc1)"
   ]
  },
  {
   "cell_type": "code",
   "execution_count": 53,
   "metadata": {},
   "outputs": [
    {
     "data": {
      "text/plain": [
       "<matplotlib.collections.QuadMesh at 0x28750226e08>"
      ]
     },
     "execution_count": 53,
     "metadata": {},
     "output_type": "execute_result"
    },
    {
     "data": {
      "image/png": "[encoded data removed]",
      "text/plain": [
       "<Figure size 432x288 with 1 Axes>"
      ]
     },
     "metadata": {},
     "output_type": "display_data"
    }
   ],
   "source": [
    "S = librosa.feature.melspectrogram(x, sr=16000, n_mels=128)\n",
    "log_S = librosa.power_to_db(S, ref=np.max)\n",
    "mfcc2 = librosa.feature.mfcc(S=log_S, n_mfcc=20)\n",
    "delta = librosa.feature.delta(mfcc, order=2)\n",
    "librosa.display.specshow(delta)"
   ]
  },
  {
   "cell_type": "code",
   "execution_count": 54,
   "metadata": {},
   "outputs": [
    {
     "name": "stdout",
     "output_type": "stream",
     "text": [
      "(20, 99) (20, 99) (20, 99)\n"
     ]
    }
   ],
   "source": [
    "print(mfcc1.shape, mfcc2.shape, delta.shape)"
   ]
  },
  {
   "cell_type": "code",
   "execution_count": 43,
   "metadata": {},
   "outputs": [
    {
     "ename": "NameError",
     "evalue": "name 'kspon_wav_np' is not defined",
     "output_type": "error",
     "traceback": [
      "\u001b[1;31m---------------------------------------------------------------------------\u001b[0m",
      "\u001b[1;31mNameError\u001b[0m                                 Traceback (most recent call last)",
      "\u001b[1;32m<ipython-input-43-adabb2520874>\u001b[0m in \u001b[0;36m<module>\u001b[1;34m\u001b[0m\n\u001b[0;32m      1\u001b[0m \u001b[0mkspon_wav_npy\u001b[0m \u001b[1;33m=\u001b[0m \u001b[0mnp\u001b[0m\u001b[1;33m.\u001b[0m\u001b[0mempty\u001b[0m\u001b[1;33m(\u001b[0m\u001b[1;33m(\u001b[0m\u001b[1;36m0\u001b[0m\u001b[1;33m,\u001b[0m \u001b[1;36m64000\u001b[0m\u001b[1;33m)\u001b[0m\u001b[1;33m,\u001b[0m \u001b[0mnp\u001b[0m\u001b[1;33m.\u001b[0m\u001b[0mfloat32\u001b[0m\u001b[1;33m)\u001b[0m\u001b[1;33m\u001b[0m\u001b[1;33m\u001b[0m\u001b[0m\n\u001b[1;32m----> 2\u001b[1;33m \u001b[0mkspon_wav_np\u001b[0m\u001b[1;33m.\u001b[0m\u001b[0mshape\u001b[0m\u001b[1;33m\u001b[0m\u001b[1;33m\u001b[0m\u001b[0m\n\u001b[0m",
      "\u001b[1;31mNameError\u001b[0m: name 'kspon_wav_np' is not defined"
     ]
    }
   ],
   "source": [
    "kspon_wav_npy = np.empty((0, 64000), np.float32)\n",
    "kspon_wav_np.shape"
   ]
  }
 ],
 "metadata": {
  "kernelspec": {
   "display_name": "Python 3",
   "language": "python",
   "name": "python3"
  },
  "language_info": {
   "codemirror_mode": {
    "name": "ipython",
    "version": 3
   },
   "file_extension": ".py",
   "mimetype": "text/x-python",
   "name": "python",
   "nbconvert_exporter": "python",
   "pygments_lexer": "ipython3",
   "version": "3.8.8"
  }
 },
 "nbformat": 4,
 "nbformat_minor": 4
}
