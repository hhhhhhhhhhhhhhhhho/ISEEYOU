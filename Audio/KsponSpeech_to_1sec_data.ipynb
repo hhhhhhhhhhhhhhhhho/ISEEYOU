{
 "cells": [
  {
   "cell_type": "code",
   "execution_count": 1,
   "metadata": {},
   "outputs": [],
   "source": [
    "import matplotlib.pyplot as plt\n",
    "import IPython.display as ipd\n",
    "import librosa\n",
    "import librosa.display"
   ]
  },
  {
   "cell_type": "code",
   "execution_count": 2,
   "metadata": {},
   "outputs": [],
   "source": [
    "### mp3 파일을 librosa로 읽어와서 오디오 신호의 정보와 그림, 플레이어를 그리는 함수\n",
    "\n",
    "def print_plot_play(x, Fs, text=''):\n",
    "    \"\"\"1. Prints information about an audio singal, 2. plots the waveform, and 3. Creates player\n",
    "\n",
    "    Notebook: C1/B_PythonAudio.ipynb\n",
    "\n",
    "    Args:\n",
    "        x: Input signal\n",
    "        Fs: Sampling rate of x\n",
    "        text: Text to print\n",
    "    \"\"\"\n",
    "    print('%s Fs = %d, x.shape = %s, x.dtype = %s' % (text, Fs, x.shape, x.dtype))\n",
    "    plt.figure(figsize=(8, 2))\n",
    "    plt.plot(x, color='gray')\n",
    "    plt.xlim([0, x.shape[0]])\n",
    "    plt.xlabel('Time (samples)')\n",
    "    plt.ylabel('Amplitude')\n",
    "    plt.tight_layout()\n",
    "    plt.show()\n",
    "    ipd.display(ipd.Audio(data=x, rate=Fs))"
   ]
  },
  {
   "cell_type": "code",
   "execution_count": 3,
   "metadata": {},
   "outputs": [],
   "source": [
    "### .pcm 파일을 .wav 파일로 바꾸는 함수\n",
    "import wave\n",
    "\n",
    "# The parameters are prerequisite information. More specifically,\n",
    "# channels, bit_depth, sampling_rate must be known to use this function.\n",
    "def pcm2wav( pcm_file, wav_file, channels=1, bit_depth=16, sampling_rate=16000 ):\n",
    "\n",
    "    # Check if the options are valid.\n",
    "    if bit_depth % 8 != 0:\n",
    "        raise ValueError(\"bit_depth \"+str(bit_depth)+\" must be a multiple of 8.\")\n",
    "        \n",
    "    # Read the .pcm file as a binary file and store the data to pcm_data\n",
    "    with open( pcm_file, 'rb') as opened_pcm_file:\n",
    "        pcm_data = opened_pcm_file.read();\n",
    "        \n",
    "        obj2write = wave.open( wav_file, 'wb')\n",
    "        obj2write.setnchannels( channels )\n",
    "        obj2write.setsampwidth( bit_depth // 8 )\n",
    "        obj2write.setframerate( sampling_rate )\n",
    "        obj2write.writeframes( pcm_data )\n",
    "        obj2write.close()"
   ]
  },
  {
   "cell_type": "code",
   "execution_count": 46,
   "metadata": {},
   "outputs": [],
   "source": [
    "### 새로 받은 한국어 음성 데이터 1번부터 1000번까지 wav 파일로 변환\n",
    "for i in range(1, 1001):\n",
    "    pcm_path = './audio_data/KsponSpeech_0001/KsponSpeech_' + '{0:06d}'.format(i) + '.pcm'\n",
    "    wav_path = './audio_data/KsponSpeech_wav_0001/Kspon_wav_' + '{0:06d}'.format(i) + '.wav'\n",
    "    pcm2wav( pcm_path, wav_path, 1, 16, 16000 )"
   ]
  },
  {
   "cell_type": "code",
   "execution_count": 109,
   "metadata": {
    "scrolled": true
   },
   "outputs": [
    {
     "name": "stdout",
     "output_type": "stream",
     "text": [
      "4994\n"
     ]
    }
   ],
   "source": [
    "import numpy as np\n",
    "\n",
    "k = 1\n",
    "kspon_mfcc_arr = np.empty((0, 20, 32))\n",
    "ksponspeech_arr = np.empty((0, 16000))\n",
    "\n",
    "for i in range(1, 1001):\n",
    "    wav_path = './audio_data/KsponSpeech_wav_0001/Kspon_wav_' + '{0:06d}'.format(i) + '.wav'\n",
    "    x, Fs = librosa.load(wav_path, sr=16000)\n",
    "    \n",
    "    num_1sec = len(x) // 16000\n",
    "    for j in range(num_1sec):\n",
    "        start = 16000 * j\n",
    "        end = 16000 * (j + 1)\n",
    "        \n",
    "        cutter_1sec = x[start:end]\n",
    "        cutter_1sec = cutter_1sec.reshape((1,) + cutter_1sec.shape)\n",
    "        \n",
    "        #mfcc = librosa.feature.mfcc(y=cutter_1sec)\n",
    "        #mfcc = mfcc.reshape((1,) + mfcc.shape)\n",
    "        \n",
    "        ksponspeech_arr = np.append(ksponspeech_arr, cutter_1sec, axis=0)\n",
    "        #kspon_mfcc_arr = np.append(kspon_mfcc_arr, mfcc, axis=0)\n",
    "        \n",
    "        k += 1\n",
    "\n",
    "print(k)"
   ]
  },
  {
   "cell_type": "code",
   "execution_count": 110,
   "metadata": {},
   "outputs": [
    {
     "name": "stdout",
     "output_type": "stream",
     "text": [
      "(0, 20, 32)\n"
     ]
    }
   ],
   "source": [
    "print(kspon_mfcc_arr.shape)"
   ]
  },
  {
   "cell_type": "code",
   "execution_count": 102,
   "metadata": {},
   "outputs": [],
   "source": [
    "np.save('./audio_data/kspon_mfcc_arr.npy', kspon_mfcc_arr)"
   ]
  },
  {
   "cell_type": "code",
   "execution_count": 107,
   "metadata": {},
   "outputs": [
    {
     "data": {
      "text/plain": [
       "83.21666666666667"
      ]
     },
     "execution_count": 107,
     "metadata": {},
     "output_type": "execute_result"
    }
   ],
   "source": [
    "4993/60"
   ]
  }
 ],
 "metadata": {
  "kernelspec": {
   "display_name": "Python 3",
   "language": "python",
   "name": "python3"
  },
  "language_info": {
   "codemirror_mode": {
    "name": "ipython",
    "version": 3
   },
   "file_extension": ".py",
   "mimetype": "text/x-python",
   "name": "python",
   "nbconvert_exporter": "python",
   "pygments_lexer": "ipython3",
   "version": "3.7.6"
  }
 },
 "nbformat": 4,
 "nbformat_minor": 4
}
